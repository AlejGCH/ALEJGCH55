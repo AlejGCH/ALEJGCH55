{
  "nbformat": 4,
  "nbformat_minor": 0,
  "metadata": {
    "colab": {
      "name": "UTP-Semana 1 - clase3.ipynb",
      "provenance": [],
      "collapsed_sections": [],
      "include_colab_link": true
    },
    "kernelspec": {
      "name": "python3",
      "display_name": "Python 3"
    },
    "language_info": {
      "name": "python"
    }
  },
  "cells": [
    {
      "cell_type": "markdown",
      "metadata": {
        "id": "view-in-github",
        "colab_type": "text"
      },
      "source": [
        "<a href=\"https://colab.research.google.com/github/AlejGCH/ALEJGCH55/blob/master/UTP_Semana_1_clase3.ipynb\" target=\"_parent\"><img src=\"https://colab.research.google.com/assets/colab-badge.svg\" alt=\"Open In Colab\"/></a>"
      ]
    },
    {
      "cell_type": "markdown",
      "metadata": {
        "id": "hLFFnHCle8DB"
      },
      "source": [
        "# **Semana 1 - clase 3**\n",
        "\n",
        "![Sin título.png](data:image/png;base64,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)\n",
        "***Formador: Ayda Andrea Franco Villamil***"
      ]
    },
    {
      "cell_type": "markdown",
      "metadata": {
        "id": "8gI5rAlwb8WS"
      },
      "source": [
        "#Los Operadores Básicos\n",
        "\n",
        "Operadores y sus prioridades\n",
        "\n",
        "Que son las variables\n",
        "nombrar variables\n",
        "resolviendo problemas matematicos básicos\n",
        "Operadores abreviados\n",
        "la funcion input\n",
        "funcion input con argumento\n",
        "operaciones con cadenas concatenación\n",
        "conversion de tipos de datos\n",
        "Quiz\n",
        "\n"
      ]
    },
    {
      "cell_type": "markdown",
      "metadata": {
        "id": "LHbhzgiEwg3G"
      },
      "source": [
        "Un operador es un símbolo del lenguaje de programación, el cual es capaz de realizar operaciones con los valores.\n",
        "\n",
        "Se comenzará con los operadores que están asociados con las operaciones aritméticas más conocidas:\n",
        "\n",
        "+, -, *, /, //, %, **\n"
      ]
    },
    {
      "cell_type": "markdown",
      "metadata": {
        "id": "-53Gfbtt4nYZ"
      },
      "source": [
        "#Operadores aritméticos: exponenciación\n",
        "\n",
        "Un signo de ** (doble asterisco) es un operador de exponenciación (potencia). El argumento a la izquierda es la base, el de la derecha, el exponente."
      ]
    },
    {
      "cell_type": "code",
      "metadata": {
        "id": "lFzqyFL14qh4",
        "colab": {
          "base_uri": "https://localhost:8080/"
        },
        "outputId": "39ffd5c1-6d04-436f-ccfe-06f3349d18c7"
      },
      "source": [
        "print(2 ** 3)\n",
        "print(2 ** 3.)\n",
        "print(2. ** 3)\n",
        "print(2. ** 3.)\n"
      ],
      "execution_count": null,
      "outputs": [
        {
          "output_type": "stream",
          "name": "stdout",
          "text": [
            "8\n",
            "8.0\n",
            "8.0\n",
            "8.0\n"
          ]
        }
      ]
    },
    {
      "cell_type": "markdown",
      "metadata": {
        "id": "WOb9nvoS5PG1"
      },
      "source": [
        "# Operadores aritméticos: multiplicación\n",
        "\n",
        "Un símbolo de * (asterisco) es un operador de multiplicación"
      ]
    },
    {
      "cell_type": "code",
      "metadata": {
        "id": "RMIgS5k45bQQ",
        "colab": {
          "base_uri": "https://localhost:8080/"
        },
        "outputId": "c5e0be39-af11-488e-b01d-51db9342314e"
      },
      "source": [
        "print(2 * 3)\n",
        "print(2 * 3.)\n",
        "print(2. * 3)\n",
        "print(2. * 3.)"
      ],
      "execution_count": null,
      "outputs": [
        {
          "output_type": "stream",
          "name": "stdout",
          "text": [
            "6\n",
            "6.0\n",
            "6.0\n",
            "6.0\n"
          ]
        }
      ]
    },
    {
      "cell_type": "markdown",
      "metadata": {
        "id": "ziVHtfZk5nXY"
      },
      "source": [
        "# Operadores aritméticos: división\n",
        "\n",
        "Un símbolo de / (diagonal) es un operador de división.\n",
        "\n",
        "El valor después de la diagonal es el dividendo, el valor antes de la diagonal es el divisor."
      ]
    },
    {
      "cell_type": "code",
      "metadata": {
        "id": "EXnG7Chd5t3c",
        "colab": {
          "base_uri": "https://localhost:8080/"
        },
        "outputId": "fc1209cf-17bf-41fc-c1ea-adf1a677a8cf"
      },
      "source": [
        "print(6/3)\n",
        "print(6/3.)\n",
        "print(6./3)\n",
        "print(6./3.)"
      ],
      "execution_count": null,
      "outputs": [
        {
          "output_type": "stream",
          "name": "stdout",
          "text": [
            "2.0\n",
            "2.0\n",
            "2.0\n",
            "2.0\n"
          ]
        }
      ]
    },
    {
      "cell_type": "markdown",
      "metadata": {
        "id": "SvGIj-kL6QMh"
      },
      "source": [
        "# Operadores aritméticos: división entera\n",
        "\n",
        "Un símbolo de // (doble diagonal) es un operador de división entera. Difiere del operador estándar / en dos detalles:\n",
        "\n",
        "El resultado carece de la parte fraccionaria, está ausente (para los enteros), o siempre es igual a cero (para los flotantes); esto significa que los resultados siempre son redondeados.\n",
        "Se ajusta a la regla entero vs flotante."
      ]
    },
    {
      "cell_type": "code",
      "metadata": {
        "id": "mIHn9ez_6wCe",
        "colab": {
          "base_uri": "https://localhost:8080/"
        },
        "outputId": "04dba040-bc5b-47b8-a446-ed1686991e1b"
      },
      "source": [
        "print(6//3)\n",
        "print(6//3.)\n",
        "print(6.//3)\n",
        "print(6.//3.)"
      ],
      "execution_count": null,
      "outputs": [
        {
          "output_type": "stream",
          "name": "stdout",
          "text": [
            "2\n",
            "2.0\n",
            "2.0\n",
            "2.0\n"
          ]
        }
      ]
    },
    {
      "cell_type": "code",
      "metadata": {
        "id": "jGK5ZG4T7eTo"
      },
      "source": [
        ""
      ],
      "execution_count": null,
      "outputs": []
    },
    {
      "cell_type": "markdown",
      "metadata": {
        "id": "mRg0qYPE8Y3U"
      },
      "source": [
        "# Operadores: residuo (módulo)\n",
        "\n",
        "El siguiente operador es uno muy peculiar, porque no tiene un equivalente dentro de los operadores aritméticos tradicionales.\n",
        "\n",
        "Su representación gráfica en Python es el símbolo de % (porcentaje), lo cual puede ser un poco confuso.\n",
        "\n",
        "Piensa en el como una diagonal (operador de división) acompañado por dos pequeños círculos.\n",
        "\n",
        "El resultado de la operación es el residuo que queda de la división entera."
      ]
    },
    {
      "cell_type": "code",
      "source": [
        "print(12%4.5)"
      ],
      "metadata": {
        "colab": {
          "base_uri": "https://localhost:8080/"
        },
        "id": "V3vQIZDvX4Q9",
        "outputId": "be2c0ea0-7f16-4ad0-e686-16b9eaa38ad2"
      },
      "execution_count": null,
      "outputs": [
        {
          "output_type": "stream",
          "name": "stdout",
          "text": [
            "3.0\n"
          ]
        }
      ]
    },
    {
      "cell_type": "markdown",
      "metadata": {
        "id": "qsQ-QGQ9It4k"
      },
      "source": [
        "#Operadores: suma\n",
        "\n",
        "El símbolo del operador de suma es el + (signo de más), el cual esta completamente alineado a los estándares matemáticos."
      ]
    },
    {
      "cell_type": "code",
      "metadata": {
        "id": "YpaAN1UfK21a",
        "colab": {
          "base_uri": "https://localhost:8080/"
        },
        "outputId": "3544be9b-0091-458c-8e8f-d2532aec9d2a"
      },
      "source": [
        "print(-4 + 4)\n",
        "print(-4. + 8)"
      ],
      "execution_count": null,
      "outputs": [
        {
          "output_type": "stream",
          "name": "stdout",
          "text": [
            "0\n",
            "4.0\n"
          ]
        }
      ]
    },
    {
      "cell_type": "markdown",
      "metadata": {
        "id": "DydDkNm_LN7M"
      },
      "source": [
        "#El operador de resta, operadores unarios y binarios\n",
        "\n",
        "El símbolo del operador de resta es obviamente - (el signo de menos), sin embargo debes notar que este operador tiene otra función - puede cambiar el signo de un número.\n",
        "\n",
        "Esta es una gran oportunidad para mencionar una distinción muy importante entre operadores unarios y binarios.\n",
        "\n",
        "En aplicaciones de resta, el operador de resta espera dos argumentos: el izquierdo (un minuendo en términos aritméticos) y el derecho (un sustraendo).\n",
        "\n",
        "Por esta razón, el operador de resta es considerado uno de los operadores binarios, así como los demás operadores de suma, multiplicación y división.\n",
        "\n",
        "Pero el operador negativo puede ser utilizado de una forma diferente"
      ]
    },
    {
      "cell_type": "code",
      "metadata": {
        "id": "xGlZ0N6NL7ZP",
        "colab": {
          "base_uri": "https://localhost:8080/"
        },
        "outputId": "930b5e4f-81b0-4ca5-f00a-61cefbefedec"
      },
      "source": [
        "print(-4 - 4)\n",
        "print(4. - 8)\n",
        "print(-1.1)\n",
        "print(+2)"
      ],
      "execution_count": null,
      "outputs": [
        {
          "output_type": "stream",
          "name": "stdout",
          "text": [
            "-8\n",
            "-4.0\n",
            "-1.1\n",
            "2\n"
          ]
        }
      ]
    },
    {
      "cell_type": "markdown",
      "metadata": {
        "id": "nmy65enkM1NR"
      },
      "source": [
        "# Operadores y sus prioridades\n",
        "\n",
        "El fenómeno que causa que algunos operadores actúen antes que otros es conocido como la jerarquía de prioridades.\n",
        "\n",
        "Python define la jerarquía de todos los operadores, y asume que los operadores de mayor jerarquía deben realizar sus operaciones antes que los de menor jerarquía."
      ]
    },
    {
      "cell_type": "code",
      "metadata": {
        "id": "702kmwBLNDTF",
        "colab": {
          "base_uri": "https://localhost:8080/"
        },
        "outputId": "299afe27-62ed-480f-cadb-9a12e3aa8512"
      },
      "source": [
        "#cual seria el resultado de esta operacion?\n",
        "2 + 3 * 5"
      ],
      "execution_count": null,
      "outputs": [
        {
          "output_type": "execute_result",
          "data": {
            "text/plain": [
              "17"
            ]
          },
          "metadata": {},
          "execution_count": 8
        }
      ]
    },
    {
      "cell_type": "markdown",
      "metadata": {
        "id": "mtE68uyaSdlK"
      },
      "source": [
        "# Operadores y sus enlaces: exponenciación\n",
        "\n",
        "Repite el experimento, pero ahora con exponentes.\n",
        "\n",
        "Utiliza este fragmento de código:"
      ]
    },
    {
      "cell_type": "code",
      "metadata": {
        "id": "RcrKk66cSsJb",
        "colab": {
          "base_uri": "https://localhost:8080/"
        },
        "outputId": "afa0e542-fc46-494b-ae85-7472010d75ad"
      },
      "source": [
        "print(2**2**3)\n",
        "#posibles resultados\n",
        "# 2**2 ->4; 4**3->64\n",
        "# 2**3->8; 2**8->256"
      ],
      "execution_count": null,
      "outputs": [
        {
          "output_type": "stream",
          "name": "stdout",
          "text": [
            "256\n"
          ]
        }
      ]
    },
    {
      "cell_type": "markdown",
      "metadata": {
        "id": "YBpYWnYTS7ZV"
      },
      "source": [
        "El resultado muestra claramente que el operador de exponenciación utiliza enlazado hacia la derecha."
      ]
    },
    {
      "cell_type": "markdown",
      "metadata": {
        "id": "qqpD1sR0TShg"
      },
      "source": [
        "#Lista de prioridades\n",
        "\n",
        "![TABLA1.png](data:image/png;base64,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)"
      ]
    },
    {
      "cell_type": "code",
      "metadata": {
        "id": "uKLHzlJnUhnQ"
      },
      "source": [
        ""
      ],
      "execution_count": null,
      "outputs": []
    },
    {
      "cell_type": "markdown",
      "metadata": {
        "id": "Sl4jbw3FUp7p"
      },
      "source": [
        "#Operadores y paréntesis\n",
        "\n",
        "Por supuesto, se permite hacer uso de paréntesis, lo cual cambiará el orden natural del cálculo de la operación.\n"
      ]
    },
    {
      "cell_type": "markdown",
      "metadata": {
        "id": "MqVe4U8rXDvx"
      },
      "source": [
        "#EJERCICIO\n",
        "\n",
        "¿Cuál es la salida del siguiente fragmento de código?\n",
        "\n",
        "print((2**4), (2*4.), (2*4))\n",
        "\n",
        "print((-2/4), (2/4), (2//4), (-2//4))\n",
        "\n",
        "print((2%-4), (2%4), (2**3**2))"
      ]
    },
    {
      "cell_type": "code",
      "metadata": {
        "id": "3tuVgZydZI6q"
      },
      "source": [
        ""
      ],
      "execution_count": null,
      "outputs": []
    },
    {
      "cell_type": "code",
      "metadata": {
        "id": "-AcoSWFAZJfV"
      },
      "source": [
        ""
      ],
      "execution_count": null,
      "outputs": []
    },
    {
      "cell_type": "code",
      "metadata": {
        "id": "gx_5CrbKZJuj"
      },
      "source": [
        ""
      ],
      "execution_count": null,
      "outputs": []
    },
    {
      "cell_type": "markdown",
      "metadata": {
        "id": "DISOwNuNZ-pt"
      },
      "source": [
        "#¿Qué son las Variables?\n",
        "\n",
        "Python ofrece \"cajas\" (contenedores) especiales para este propósito, estas cajas son llamadas variables - el nombre mismo sugiere que el contenido de estos contenedores puede variar en casi cualquier forma.\n",
        "\n",
        "#¿Cuáles son los componentes o elementos de una variable en Python?\n",
        "\n",
        "Un nombre.<BR>\n",
        "Un valor (el contenido del contenedor)."
      ]
    },
    {
      "cell_type": "code",
      "source": [
        "caja=5\n",
        "caja2 = 4 * 2"
      ],
      "metadata": {
        "id": "NHuszUCwb0Hu"
      },
      "execution_count": null,
      "outputs": []
    },
    {
      "cell_type": "markdown",
      "metadata": {
        "id": "lVZR2kBYa8pC"
      },
      "source": [
        "**Si se desea nombrar una variable, se deben seguir las siguientes reglas:**\n",
        "\n",
        "El nombre de la variable debe de estar compuesto por MAYUSCULAS, minúsculas, dígitos, y el carácter _ (guion bajo).\n",
        "El nombre de la variable debe comenzar con una letra.\n",
        "<BR><BR>\n",
        "El carácter guion bajo es considerado una letra.<BR><BR>\n",
        "Las mayúsculas y minúsculas se tratan de forma distinta<BR><BR> \n",
        "El nombre de las variables no pueden ser igual a alguna de las palabras reservadas de Python."
      ]
    },
    {
      "cell_type": "markdown",
      "metadata": {
        "id": "3xYpMNtukfof"
      },
      "source": [
        "**Nombres correctos e incorrectos de variables**\n",
        "\n",
        "*Nota: la misma restricción aplica a los nombres de funciones.*\n",
        "\n",
        "Python no impone restricciones en la longitud de los nombres de las variables, pero eso no significa que un nombre de variable largo sea mejor que uno corto.\n",
        "\n",
        "Aquí se muestran algunos nombres de variable que son correctos, pero que no siempre son convenientes:\n",
        "\n",
        "***MiVariable, i, t34, Tasa_Cambio, contador, DiasParaNavidad, ElNombreEsTanLargoQueSeCometeranErroresConEl, _.***\n",
        "\n",
        "\n",
        "Además, Python permite utilizar no solo las letras latinas, sino caracteres específicos de otros idiomas que utilizan otros alfabetos.\n",
        "\n",
        "Estos nombres de variables también son correctos:\n",
        "\n",
        "***Adiós_Señora, sûr_la_mer, Einbahnstraße, переменная.***\n",
        "\n",
        "\n",
        "Ahora veamos algunos nombres incorrectos:\n",
        "\n",
        "***10t (no comienza con una letra), Tasa Cambio (contiene un espacio).***"
      ]
    },
    {
      "cell_type": "markdown",
      "metadata": {
        "id": "qjTrD6FRlSnb"
      },
      "source": [
        "#Palabras Clave\n"
      ]
    },
    {
      "cell_type": "code",
      "metadata": {
        "id": "L4DFJ3X9lb_d"
      },
      "source": [
        "['False', 'None', 'True', 'and', 'as', 'assert', 'break', 'class', 'continue', 'def', 'del', 'elif', 'else', 'except', 'finally', 'for', 'from', 'global', 'if', 'import', 'in', 'is', 'lambda', 'nonlocal', 'not', 'or', 'pass', 'raise', 'return', 'try', 'while', 'with', 'yield']"
      ],
      "execution_count": null,
      "outputs": []
    },
    {
      "cell_type": "markdown",
      "metadata": {
        "id": "oEqVEI5vln1v"
      },
      "source": [
        "Son llamadas palabras clave o (mejor dicho) palabras reservadas. Son reservadas porque no se deben utilizar como nombres: ni para variables, ni para funciones, ni para cualquier otra cosa que se desee crear."
      ]
    },
    {
      "cell_type": "markdown",
      "metadata": {
        "id": "gHncw6IMl5yO"
      },
      "source": [
        "#Creando variables\n",
        "\n",
        "¿Qué se puede poner dentro de una variable?\n",
        "\n",
        "Cualquier cosa.\n",
        "\n",
        "Se puede utilizar una variable para almacenar cualquier tipo de los valores que ya se han mencionado, y muchos mas de los cuales aun no se han explicado."
      ]
    },
    {
      "cell_type": "code",
      "source": [
        "var = \"3.7.1\"\n",
        "print(\"Version de python: \"+var)\n",
        "print(\"version: lllll jjjj kkk   \", var)"
      ],
      "metadata": {
        "colab": {
          "base_uri": "https://localhost:8080/"
        },
        "id": "N84t77OB1AE3",
        "outputId": "e4f9e304-8d12-4671-8ac9-eeadfb98020e"
      },
      "execution_count": null,
      "outputs": [
        {
          "output_type": "stream",
          "name": "stdout",
          "text": [
            "Version de python: 3.7.1\n",
            "version: lllll jjjj kkk    3.7.1\n"
          ]
        }
      ]
    },
    {
      "cell_type": "markdown",
      "metadata": {
        "id": "ueRWfLrGntMJ"
      },
      "source": [
        "#Asignar un valor nuevo a una variable ya existente\n",
        "\n",
        "¿Cómo se le asigna un valor nuevo a una variable que ya ha sido creada?<BR>\n",
        "De la misma manera. Solo se necesita el signo de igual.\n",
        "\n"
      ]
    },
    {
      "cell_type": "markdown",
      "metadata": {
        "id": "vOwGa4f7pIi5"
      },
      "source": [
        "#Resolviendo problemas matemáticos simples"
      ]
    },
    {
      "cell_type": "code",
      "source": [
        ""
      ],
      "metadata": {
        "id": "HX17gM_s1F3z"
      },
      "execution_count": null,
      "outputs": []
    },
    {
      "cell_type": "markdown",
      "metadata": {
        "id": "oc6M-rfBrzTR"
      },
      "source": [
        "#Ejemplo\n",
        "A continuación una historia:\n",
        "\n",
        "Érase una vez en la Tierra de las Manzanas, Juan tenía tres manzanas, María tenía cinco manzanas, y Adán tenía seis manzanas. Todos eran muy felices y vivieron por muchísimo tiempo. Fin de la Historia.\n",
        "\n",
        "Tu tarea es:\n",
        "\n",
        "Crear las variables: juan, maria, y adan.<br>\n",
        "Asignar valores a las variables.<br> El valor debe de ser igual al numero de manzanas que cada quien tenía.<br>\n",
        "Una vez almacenados los números en las variables, imprimir las variables en una línea, y separar cada una de ellas con una coma.<br>\n",
        "Después se debe crear una nueva variable llamada totalManzanas y se debe igualar a la suma de las tres variables anteriores.<br>\n",
        "Imprime el valor almacenado en totalManzanas en la consola.<br>\n",
        "Experimenta con tu código: crea nuevas variables, asigna diferentes valores a ellas, y realiza varias operaciones aritméticas con ellas (por ejemplo, +, -, *, /, //, etc.).<br> Intenta poner una cadena con un entero juntos en la misma línea, por ejemplo, \"Numero Total de Manzanas:\" y totalManzanas."
      ]
    },
    {
      "cell_type": "code",
      "source": [
        ""
      ],
      "metadata": {
        "id": "QWfy9qNl1JBO"
      },
      "execution_count": null,
      "outputs": []
    },
    {
      "cell_type": "markdown",
      "metadata": {
        "id": "tqNKd-9mtjx4"
      },
      "source": [
        "#Ejercicio 1\n",
        "\n",
        "Teniendo en mente que 1 equivale aproximadamente a 1.61 kilómetros, complemente el programa en el editor para que convierta de:<br><br>\n",
        "\n",
        "Millas a kilómetros.<br>\n",
        "Kilómetros a millas.<br><br>\n",
        "No se debe cambiar el código existente. Escribe tu código en los lugares indicados con ###. Prueba tu programa con los datos que han sido provistos en el código fuente.<br>\n",
        "\n",
        "Pon mucha atención a lo que esta ocurriendo dentro de la función print(). Analiza como es que se proveen múltiples argumentos para la función, y como es que se muestra el resultado.\n",
        "\n",
        "**Nota que algunos de los argumentos dentro de la función print() son cadenas (por ejemplo \"millas son\", y otros son variables (por ejemplo millas).**\n",
        "\n",
        "*CONSEJO*\n",
        "\n",
        "Hay una cosa interesante mas que esta ocurriendo. ¿Puedes ver otra función dentro de la función print() ? **Es la función round()**. Su trabajo es redondear la salida del resultado al numero de decimales especificados en el paréntesis, y regresar un valor flotante (dentro de la función round() se puede encontrar el nombre de la variable, el nombre, una coma, y el numero de decimales que se desean mostrar). Se hablará mas de esta función muy pronto, no te preocupes si no todo queda muy claro. Solo se quiere impulsar tu curiosidad.\n",
        "\n"
      ]
    },
    {
      "cell_type": "code",
      "source": [
        ""
      ],
      "metadata": {
        "id": "vKODPfqn1LGw"
      },
      "execution_count": null,
      "outputs": []
    },
    {
      "cell_type": "markdown",
      "metadata": {
        "id": "2Ty8fPNducTY"
      },
      "source": [
        "#Ejercicio 2\n",
        "\n",
        "Después de completar el ejercicio 1 experimenta más. Intenta escribir diferentes convertidores, por ejemplo, un convertidor de USD a EUR y un convertidor de temperatura. Intenta mostrar los resultados combinando cadenas y variables. Intenta utilizar y experimentar con la función round() para redondear tus resultados a uno, dos o tres decimales. Revisa que es lo que sucede si no se provee un dígito al redondear. Recuerda probar tus programas.\n",
        "\n",
        "Experimenta, saca tus propias conclusiones, y aprende. Se curioso."
      ]
    },
    {
      "cell_type": "markdown",
      "metadata": {
        "id": "KXdKqNFD7Q9c"
      },
      "source": [
        "# Ejercicio 3\n",
        "\n",
        "Escribir un programa que muestre por pantalla el resultado de la siguiente operación aritmética $\\left(\\frac{3+2}{2\\cdot 5}\\right)^2$."
      ]
    },
    {
      "cell_type": "code",
      "metadata": {
        "id": "waUoxOnT7Wvi"
      },
      "source": [
        ""
      ],
      "execution_count": null,
      "outputs": []
    },
    {
      "cell_type": "markdown",
      "metadata": {
        "id": "BIltNeHk32EF"
      },
      "source": [
        "# Ejercicios 4 - presedencia\n",
        "\n",
        "Calcula el resultado de estas expresiones, antes de caer en la tentación de probarlas en Python.Luego de que lo hagas, cae en la tentación.\n",
        "*  $2*(3-1)$\n",
        "*   $(1+1)**(5-2)$\n",
        "*   $400*100/(20-10+50)$\n",
        "*   $2**1+1$\n",
        "*   $3*1**3$\n",
        "*   $2*3-1$\n",
        "*   $5-3-1$\n",
        "*   $+--2$\n",
        "*   $-5/2-2$\n",
        "*   $-5//2-2$\n",
        "*   $3\\%2/5-8*3*15+18/8-*5$"
      ]
    },
    {
      "cell_type": "code",
      "metadata": {
        "id": "gPftp1dp4BDN"
      },
      "source": [
        ""
      ],
      "execution_count": null,
      "outputs": []
    }
  ]
}